{
 "cells": [
  {
   "cell_type": "markdown",
   "id": "7c4e915d",
   "metadata": {},
   "source": [
    "## Randomisation"
   ]
  },
  {
   "cell_type": "code",
   "execution_count": 1,
   "id": "553645c5",
   "metadata": {},
   "outputs": [],
   "source": [
    "#Firt you have to import random\n",
    "import random"
   ]
  },
  {
   "cell_type": "code",
   "execution_count": 8,
   "id": "53c958d3",
   "metadata": {},
   "outputs": [
    {
     "name": "stdout",
     "output_type": "stream",
     "text": [
      "Int: 18\n"
     ]
    }
   ],
   "source": [
    "#Int random between 10 and 20 both are included\n",
    "Value = random.randint(10,20)\n",
    "print(f'Int: {Value}')"
   ]
  },
  {
   "cell_type": "code",
   "execution_count": 10,
   "id": "a0eaabc2",
   "metadata": {},
   "outputs": [
    {
     "name": "stdout",
     "output_type": "stream",
     "text": [
      "Float: 0.7312897866080297\n"
     ]
    }
   ],
   "source": [
    "#random float between [0, 1) the 1 is excluded\n",
    "Float = random.random()\n",
    "print(f\"Float: {Float}\")"
   ]
  },
  {
   "cell_type": "markdown",
   "id": "8edc3457",
   "metadata": {},
   "source": [
    "## Head or tails"
   ]
  },
  {
   "cell_type": "code",
   "execution_count": 14,
   "id": "aa88399d",
   "metadata": {},
   "outputs": [
    {
     "name": "stdout",
     "output_type": "stream",
     "text": [
      "Head!\n"
     ]
    }
   ],
   "source": [
    "Result = random.randint(0,1)\n",
    "#0 means head\n",
    "#1 means tails\n",
    "\n",
    "if Result == 0:\n",
    "    print(\"Head!\")\n",
    "else:\n",
    "    print('Tails!')"
   ]
  },
  {
   "cell_type": "markdown",
   "id": "6a9d3a20",
   "metadata": {},
   "source": [
    "## Lists"
   ]
  },
  {
   "cell_type": "code",
   "execution_count": 17,
   "id": "08e76c53",
   "metadata": {},
   "outputs": [
    {
     "name": "stdout",
     "output_type": "stream",
     "text": [
      "[]\n",
      "1\n"
     ]
    }
   ],
   "source": [
    "#Sintaxis for a list\n",
    "List = []\n",
    "\n",
    "#Common methods\n",
    "#Add variables, doesn't matter, a python list can have whatever thing you want in it\n",
    "List.append('1')\n",
    "#Delete the first object in the list\n",
    "List.pop()\n",
    "\n",
    "print(List)\n",
    "\n",
    "List = [1,2,3,4,5]\n",
    "#In whichever coding language the lists starts with the number 0\n",
    "print(List[0])"
   ]
  },
  {
   "cell_type": "markdown",
   "id": "c7e27130",
   "metadata": {},
   "source": [
    "## Banker roulete"
   ]
  },
  {
   "cell_type": "markdown",
   "id": "8a511ec6",
   "metadata": {},
   "source": [
    "From a list chose a random name and then the name have to pay all the bill"
   ]
  },
  {
   "cell_type": "code",
   "execution_count": 71,
   "id": "fe90483a",
   "metadata": {},
   "outputs": [
    {
     "name": "stdout",
     "output_type": "stream",
     "text": [
      "Welcome to the banker roulete!\n",
      "The list is: \n",
      "['rodrigo', 'jully', 'gaby', 'wiwi', 'fatima']\n",
      "The random value is: 1\n",
      "The person that must pay is jully\n"
     ]
    }
   ],
   "source": [
    "import random\n",
    "print('Welcome to the banker roulete!')\n",
    "\n",
    "Name_List = []\n",
    "\n",
    "while True:\n",
    "    Opt = input('You want to add a name: ').lower()\n",
    "    if Opt == 'yes':\n",
    "        Name_List.append(input('Write the name: '))\n",
    "    else:\n",
    "        break\n",
    "\n",
    "Value_random = random.randint(1, len(Name_List))-1\n",
    "\n",
    "print('The list is: ')\n",
    "print(Name_List)\n",
    "print(f'The random value is: {Value_random}')\n",
    "print(f'The person that must pay is {Name_List[Value_random]}')"
   ]
  },
  {
   "cell_type": "code",
   "execution_count": 72,
   "id": "c7f62885",
   "metadata": {},
   "outputs": [
    {
     "name": "stdout",
     "output_type": "stream",
     "text": [
      "Apples\n"
     ]
    }
   ],
   "source": [
    "fruits = [\"Strawberries\", \"Nectarines\", \"Apples\", \"Grapes\", \"Peaches\", \"Cherries\", \"Pears\"]\n",
    "print(fruits[-5])"
   ]
  },
  {
   "cell_type": "markdown",
   "id": "95a75e8d",
   "metadata": {},
   "source": [
    "## Treasure map"
   ]
  },
  {
   "cell_type": "markdown",
   "id": "46161bc6",
   "metadata": {},
   "source": [
    "The code only have to hide the treasure, it's not a complete game yet"
   ]
  },
  {
   "cell_type": "code",
   "execution_count": 78,
   "id": "ec177552",
   "metadata": {},
   "outputs": [
    {
     "name": "stdout",
     "output_type": "stream",
     "text": [
      "['', '', '']\n",
      "\n",
      "['', '', '']\n",
      "\n",
      "['', '', '']\n",
      "\n",
      "You have 3 cols and 3 rows, where do you want to hide the treasure? \n",
      "Digit the row: 4\n",
      "Digit the column: 3\n",
      "Write a valid coordinate!\n",
      "Digit the row: 3\n",
      "Digit the column: 4\n",
      "Write a valid coordinate!\n",
      "Digit the row: 0\n",
      "Digit the column: 0\n",
      "Write a valid coordinate!\n",
      "Digit the row: 1\n",
      "Digit the column: 1\n",
      "The new map is: \n",
      "['X', '', '']\n",
      "\n",
      "['', '', '']\n",
      "\n",
      "['', '', '']\n",
      "\n"
     ]
    }
   ],
   "source": [
    "Map = [['','',''],['','',''],['','','']]\n",
    "for i in Map:\n",
    "    print(f'{i}\\n')\n",
    "    \n",
    "print('You have 3 cols and 3 rows, where do you want to hide the treasure? ')\n",
    "while True:\n",
    "    Row = int(input('Digit the row: '))-1\n",
    "    Col = int(input('Digit the column: '))-1\n",
    "    if Row>=0 and Row<=2 and Col>=0 and Col<=2:\n",
    "        break\n",
    "    else:\n",
    "        print('Write a valid coordinate!')\n",
    "\n",
    "Map[Row][Col]='X'\n",
    "\n",
    "print('The new map is: ')\n",
    "for i in Map:\n",
    "    print(f'{i}\\n')\n",
    "    "
   ]
  },
  {
   "cell_type": "code",
   "execution_count": null,
   "id": "5f49407e",
   "metadata": {},
   "outputs": [],
   "source": []
  },
  {
   "cell_type": "markdown",
   "id": "3c2924ae",
   "metadata": {},
   "source": [
    "## Project paper, rock or scissors"
   ]
  },
  {
   "cell_type": "code",
   "execution_count": 98,
   "id": "fbf6cd4b",
   "metadata": {},
   "outputs": [
    {
     "name": "stdout",
     "output_type": "stream",
     "text": [
      "0 paper - 1 rock - 2 scissors: 3\n",
      "Write a valid value!\n",
      "0 paper - 1 rock - 2 scissors: -1\n",
      "Write a valid value!\n",
      "0 paper - 1 rock - 2 scissors: 0\n",
      "Your decision: \n",
      "\n",
      " _______\n",
      "|       |\n",
      "|   |   |\n",
      "|   |   |\n",
      "|_______|\n",
      "\n",
      "Machine decision: \n",
      "\n",
      " _______\n",
      "|       |\n",
      "|   |   |\n",
      "|   |   |\n",
      "|_______|\n",
      "\n",
      "Tie!\n"
     ]
    }
   ],
   "source": [
    "import random\n",
    "\n",
    "#Draws\n",
    "Rock = '''\n",
    " _______\n",
    "|       |\n",
    "|       |\n",
    "|   ●   |\n",
    "|_______|\n",
    "'''\n",
    "\n",
    "Paper = '''\n",
    " _______\n",
    "|       |\n",
    "|   |   |\n",
    "|   |   |\n",
    "|_______|\n",
    "'''\n",
    "\n",
    "Scissor = '''\n",
    " _______\n",
    "|       |\n",
    "|  \\ /  |\n",
    "|   X   |\n",
    "|_______|\n",
    "'''\n",
    "\n",
    "Game = [Paper, Rock, Scissor]\n",
    "\n",
    "#Your decision\n",
    "while True:\n",
    "    Opt = int(input('0 paper - 1 rock - 2 scissors: '))\n",
    "    if Opt <0 or Opt>2:\n",
    "        print('Write a valid value!')\n",
    "    else:\n",
    "        break\n",
    "\n",
    "#Machine decision\n",
    "Machine_Value = random.randint(0,2)\n",
    "\n",
    "if Opt == Machine_Value:\n",
    "    print('Your decision: ')\n",
    "    print(Game[Opt])\n",
    "    print('Machine decision: ')\n",
    "    print(Game[Machine_Value])\n",
    "    print('Tie!')\n",
    "elif (Opt == 0 and Machine_Value == 1) or (Opt == 1 and Machine_Value == 2) or (Opt == 2 and Machine_Value == 0):\n",
    "    print('Your decision: ')\n",
    "    print(Game[Opt])\n",
    "    print('Machine decision: ')\n",
    "    print(Game[Machine_Value])\n",
    "    print('You won!')\n",
    "else:\n",
    "    print('Your decision: ')\n",
    "    print(Game[Opt])\n",
    "    print('Machine decision: ')\n",
    "    print(Game[Machine_Value])\n",
    "    print('You lose!')"
   ]
  }
 ],
 "metadata": {
  "kernelspec": {
   "display_name": "Python 3 (ipykernel)",
   "language": "python",
   "name": "python3"
  },
  "language_info": {
   "codemirror_mode": {
    "name": "ipython",
    "version": 3
   },
   "file_extension": ".py",
   "mimetype": "text/x-python",
   "name": "python",
   "nbconvert_exporter": "python",
   "pygments_lexer": "ipython3",
   "version": "3.10.5"
  }
 },
 "nbformat": 4,
 "nbformat_minor": 5
}
