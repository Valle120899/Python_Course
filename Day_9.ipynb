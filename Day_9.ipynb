{
 "cells": [
  {
   "cell_type": "markdown",
   "id": "4e69defb",
   "metadata": {},
   "source": [
    "## Dictionaries"
   ]
  },
  {
   "cell_type": "code",
   "execution_count": 4,
   "id": "5aef4dd6",
   "metadata": {},
   "outputs": [
    {
     "name": "stdout",
     "output_type": "stream",
     "text": [
      "{'1': 'a', '2': 'b', '3': 'c'}\n",
      "1\n",
      "a\n",
      "2\n",
      "b\n",
      "3\n",
      "c\n"
     ]
    }
   ],
   "source": [
    "Dir = {\n",
    "    '1':'a',\n",
    "    '2':'b',\n",
    "    '3':'c'\n",
    "}\n",
    "\n",
    "print(Dir)\n",
    "\n",
    "for i,j in Dir.items():\n",
    "    #Left side\n",
    "    print(i)\n",
    "    #Right side\n",
    "    print(j)"
   ]
  },
  {
   "cell_type": "markdown",
   "id": "74b6d00b",
   "metadata": {},
   "source": [
    "## Grading program"
   ]
  },
  {
   "cell_type": "code",
   "execution_count": 9,
   "id": "e5fa2465",
   "metadata": {},
   "outputs": [
    {
     "name": "stdout",
     "output_type": "stream",
     "text": [
      "Estudent_1 : Excellent with 10!\n",
      "Estudent_2 : You fail with 6.5!\n",
      "Estudent_3 : Good with 8.7!\n",
      "Estudent_4 : You fail with 5!\n",
      "Estudent_5 : Acceptable with 7.4!\n",
      "Estudent_6 : Excellent with 10!\n",
      "Estudent_7 : Excellent with 9.2!\n",
      "Estudent_8 : You fail with 6!\n",
      "Estudent_9 : Excellent with 10!\n",
      "Estudent_10 : Acceptable with 8!\n"
     ]
    }
   ],
   "source": [
    "DB ={\n",
    "    'Estudent_1': 10,\n",
    "    'Estudent_2': 6.5,\n",
    "    'Estudent_3': 8.7,\n",
    "    'Estudent_4': 5,\n",
    "    'Estudent_5': 7.4,\n",
    "    'Estudent_6': 10,\n",
    "    'Estudent_7': 9.2,\n",
    "    'Estudent_8': 6,\n",
    "    'Estudent_9': 10,\n",
    "    'Estudent_10': 8\n",
    "}\n",
    "\n",
    "## Scores\n",
    "#91-100 excelent\n",
    "#81-90 Good\n",
    "#71-80 Acceptable\n",
    "#70 or lower Fail\n",
    "\n",
    "for i, j in DB.items():\n",
    "    if j*10 >90:\n",
    "        print(f\"{i} : Excellent with {j}!\")\n",
    "    elif j*10>80:\n",
    "        print(f\"{i} : Good with {j}!\")\n",
    "    elif j*10>70:\n",
    "        print(f\"{i} : Acceptable with {j}!\")\n",
    "    else:\n",
    "        print(f\"{i} : You fail with {j}!\")\n"
   ]
  },
  {
   "cell_type": "markdown",
   "id": "b05facf7",
   "metadata": {},
   "source": [
    "## Nesting list and dicctionaries"
   ]
  },
  {
   "cell_type": "code",
   "execution_count": 12,
   "id": "790595f5",
   "metadata": {},
   "outputs": [
    {
     "name": "stdout",
     "output_type": "stream",
     "text": [
      "[{'1': 'a', '2': 'b', '3': 'c'}, {'1': 'a', '2': 'b', '3': 'c'}, {'1': 'a', '2': 'b', '3': 'c'}]\n",
      "{'1': 'a', '2': 'b', '3': 'c'}\n",
      "a\n"
     ]
    }
   ],
   "source": [
    "Dir = {\n",
    "    '1':'a',\n",
    "    '2':'b',\n",
    "    '3':'c'\n",
    "}\n",
    "\n",
    "List = [Dir,Dir,Dir]\n",
    "\n",
    "print(List)\n",
    "print(List[0])\n",
    "print(List[0]['1'])"
   ]
  },
  {
   "cell_type": "code",
   "execution_count": 16,
   "id": "dfce9353",
   "metadata": {},
   "outputs": [
    {
     "name": "stdout",
     "output_type": "stream",
     "text": [
      "{'1': ['a', 'b', 'c'], '2': ['a', 'b', 'c'], '3': ['a', 'b', 'c']}\n",
      "['a', 'b', 'c']\n",
      "a\n"
     ]
    }
   ],
   "source": [
    "List = ['a','b','c']\n",
    "Dir = {\n",
    "    '1':List,\n",
    "    '2':List,\n",
    "    '3':List\n",
    "}\n",
    "\n",
    "print(Dir)\n",
    "print(Dir['1'])\n",
    "print(Dir['1'][0])"
   ]
  },
  {
   "cell_type": "markdown",
   "id": "03f5a149",
   "metadata": {},
   "source": [
    "## Travel log"
   ]
  },
  {
   "cell_type": "code",
   "execution_count": 18,
   "id": "f0e25d13",
   "metadata": {},
   "outputs": [
    {
     "name": "stdout",
     "output_type": "stream",
     "text": [
      "Welcome to the travel log!\n",
      "Wanna add a new travel? (1 yes - 0 no): 1\n",
      "Write the new country: kk\n",
      "Write the times you visit it: 5\n",
      "Write the cities: k\n",
      "Write the cities: k\n",
      "Write the cities: k\n",
      "Write the cities: k\n",
      "Write the cities: b\n",
      "[{'country': 'SV', 'visits': 2, 'cities': ['SS', 'SA']}, {'country': 'MX', 'visits': 1, 'cities': ['CM', 'CC']}, {'visits:5', \"cities:['k', 'k', 'k', 'k', 'b']\", 'country:kk'}]\n",
      "Welcome to the travel log!\n",
      "Wanna add a new travel? (1 yes - 0 no): 0\n"
     ]
    }
   ],
   "source": [
    "travel_log = [\n",
    "{\n",
    "    \"country\":\"SV\",\n",
    "    \"visits\":2,\n",
    "    \"cities\":[\"SS\",\"SA\"]\n",
    "},\n",
    "{\n",
    "    \"country\":\"MX\",\n",
    "    \"visits\":1,\n",
    "    \"cities\":[\"CM\",\"CC\"]\n",
    "},\n",
    "]\n",
    "\n",
    "def Add_new_Travel(Dir):\n",
    "    country = input(\"Write the new country: \")\n",
    "    number = int(input(\"Write the times you visit it: \"))\n",
    "    List = []\n",
    "    for i in range(number):\n",
    "        List.append(input(\"Write the cities: \"))\n",
    "    Dir.append({f'country:{country}', f'visits:{number}',f'cities:{List}'})\n",
    "    return Dir\n",
    "\n",
    "while True:\n",
    "    print('Welcome to the travel log!')\n",
    "    Opt = int(input(\"Wanna add a new travel? (1 yes - 0 no): \"))\n",
    "    if Opt == 0:\n",
    "        break\n",
    "    else:\n",
    "        travel_log = Add_new_Travel(travel_log)\n",
    "        print(travel_log)"
   ]
  },
  {
   "cell_type": "code",
   "execution_count": null,
   "id": "b97fbd99",
   "metadata": {},
   "outputs": [],
   "source": []
  },
  {
   "cell_type": "markdown",
   "id": "bfe99541",
   "metadata": {},
   "source": [
    "## Project - The secret auction program!"
   ]
  },
  {
   "cell_type": "code",
   "execution_count": 49,
   "id": "b3b1c0be",
   "metadata": {},
   "outputs": [
    {
     "name": "stdout",
     "output_type": "stream",
     "text": [
      "Insert a name: rodrigo\n",
      "Insert an amount: $20\n",
      "Want to continue: yes\n",
      "Insert a name: diana\n",
      "Insert an amount: $15\n",
      "Want to continue: yes\n",
      "Insert a name: jully\n",
      "Insert an amount: $26\n",
      "Want to continue: no\n",
      "{'name': 'jully', 'amount': 26.0}\n"
     ]
    }
   ],
   "source": [
    "def bubble_sort(List_amount):\n",
    "    for i in range(len(List_amount)):\n",
    "        for j in range(0, len(List_amount)-i-1):\n",
    "            if List_amount[j] < List_amount[j+1]:\n",
    "                List_amount[j], List_amount[j+1] = List_amount[j+1], List_amount[j]\n",
    "    return List_amount[0]    \n",
    "\n",
    "def Validation(List):\n",
    "    List_amount = []\n",
    "    for i in List:\n",
    "        for x,y in i.items():\n",
    "            if type(y) == float:\n",
    "                List_amount.append(y)\n",
    "    \n",
    "    Highest = bubble_sort(List_amount)\n",
    "    \n",
    "    for i in List:\n",
    "        for x,y in i.items():\n",
    "            if y == Highest:\n",
    "                #print(f'The winner is {i[name] } with ${i[amount]}')\n",
    "                print(i)\n",
    "                break\n",
    "            \n",
    "List = []\n",
    "Dir ={}\n",
    "\n",
    "while True:\n",
    "    Dir['name'] = input('Insert a name: ')\n",
    "    Dir['amount'] = float(input('Insert an amount: $'))\n",
    "    Opt = input('Want to continue: ').lower()\n",
    "    if Opt == 'no':\n",
    "        List.append(Dir)\n",
    "        Validation(List)\n",
    "        break\n",
    "    else:\n",
    "        List.append(Dir)\n",
    "        Dir = {}\n",
    "    "
   ]
  },
  {
   "cell_type": "code",
   "execution_count": null,
   "id": "1cd6971a",
   "metadata": {},
   "outputs": [],
   "source": []
  }
 ],
 "metadata": {
  "kernelspec": {
   "display_name": "Python 3 (ipykernel)",
   "language": "python",
   "name": "python3"
  },
  "language_info": {
   "codemirror_mode": {
    "name": "ipython",
    "version": 3
   },
   "file_extension": ".py",
   "mimetype": "text/x-python",
   "name": "python",
   "nbconvert_exporter": "python",
   "pygments_lexer": "ipython3",
   "version": "3.10.5"
  }
 },
 "nbformat": 4,
 "nbformat_minor": 5
}
