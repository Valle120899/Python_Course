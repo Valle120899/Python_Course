{
 "cells": [
  {
   "cell_type": "markdown",
   "id": "6e22df2b",
   "metadata": {},
   "source": [
    "## Functions with input"
   ]
  },
  {
   "cell_type": "code",
   "execution_count": 1,
   "id": "55fed04e",
   "metadata": {},
   "outputs": [
    {
     "name": "stdout",
     "output_type": "stream",
     "text": [
      "Hello Rodrigo!\n"
     ]
    }
   ],
   "source": [
    "def Hello(string):\n",
    "    print(f'Hello {string}!')\n",
    "    \n",
    "Hello('Rodrigo')"
   ]
  },
  {
   "cell_type": "markdown",
   "id": "3412a78e",
   "metadata": {},
   "source": [
    "## Positional vs key arguments"
   ]
  },
  {
   "cell_type": "code",
   "execution_count": 2,
   "id": "a477e9b9",
   "metadata": {},
   "outputs": [
    {
     "name": "stdout",
     "output_type": "stream",
     "text": [
      "Hello Rodrigo, nice to meet you!\n",
      "Have a nive day !\n",
      "Hello , nice to meet you!\n",
      "Have a nive day Rodrigo!\n"
     ]
    }
   ],
   "source": [
    "def Function(string1='', string2=''):\n",
    "    print(f'Hello {string1}, nice to meet you!')\n",
    "    print(f'Have a nive day {string2}!')\n",
    "    \n",
    "Function(string1='Rodrigo')\n",
    "Function(string2='Rodrigo')"
   ]
  },
  {
   "cell_type": "markdown",
   "id": "58c99137",
   "metadata": {},
   "source": [
    "## Paint area calculator"
   ]
  },
  {
   "cell_type": "code",
   "execution_count": 6,
   "id": "229f4ed5",
   "metadata": {},
   "outputs": [
    {
     "name": "stdout",
     "output_type": "stream",
     "text": [
      "Digit a height in meters: 4\n",
      "Digit a width in meters: 3\n",
      "You will need 3 cans\n"
     ]
    }
   ],
   "source": [
    "import math\n",
    "\n",
    "Height = float(input('Digit a height in meters: '))\n",
    "Width = float(input('Digit a width in meters: '))\n",
    "\n",
    "#A can covers 5 square meters\n",
    "Can = math.ceil(round(float(Height*Width)/5.0,2))\n",
    "\n",
    "print(f'You will need {Can} cans')"
   ]
  },
  {
   "cell_type": "markdown",
   "id": "0edd488f",
   "metadata": {},
   "source": [
    "## Prime number checker"
   ]
  },
  {
   "cell_type": "code",
   "execution_count": 19,
   "id": "3970483a",
   "metadata": {},
   "outputs": [
    {
     "name": "stdout",
     "output_type": "stream",
     "text": [
      "Digit a number to check: 14\n",
      "It's not prime\n"
     ]
    }
   ],
   "source": [
    "def PrimeChecker(Number):\n",
    "    Aux=0\n",
    "    for i in range(1,Number+1):\n",
    "        if Number % i == 0:\n",
    "            Aux+=1\n",
    "\n",
    "    if Aux == 2 or Number == 1:\n",
    "        return True\n",
    "    else:\n",
    "        return False\n",
    "\n",
    "while True:\n",
    "    Number = int(input('Digit a number to check: '))\n",
    "    if Number > 0:\n",
    "        break\n",
    "    else:\n",
    "        print('Digit a valid number')\n",
    "        \n",
    "if PrimeChecker(Number):\n",
    "    print(\"It's prime!\")\n",
    "else:\n",
    "    print(\"It's not prime\")\n"
   ]
  },
  {
   "cell_type": "code",
   "execution_count": null,
   "id": "9e8f3dee",
   "metadata": {},
   "outputs": [],
   "source": []
  }
 ],
 "metadata": {
  "kernelspec": {
   "display_name": "Python 3 (ipykernel)",
   "language": "python",
   "name": "python3"
  },
  "language_info": {
   "codemirror_mode": {
    "name": "ipython",
    "version": 3
   },
   "file_extension": ".py",
   "mimetype": "text/x-python",
   "name": "python",
   "nbconvert_exporter": "python",
   "pygments_lexer": "ipython3",
   "version": "3.10.5"
  }
 },
 "nbformat": 4,
 "nbformat_minor": 5
}
