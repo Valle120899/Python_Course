{
 "cells": [
  {
   "cell_type": "markdown",
   "id": "27f50787",
   "metadata": {},
   "source": [
    "## Functions"
   ]
  },
  {
   "cell_type": "code",
   "execution_count": 1,
   "id": "f1e450b7",
   "metadata": {},
   "outputs": [
    {
     "name": "stdout",
     "output_type": "stream",
     "text": [
      "Hello word!\n"
     ]
    }
   ],
   "source": [
    "def Hello():\n",
    "    print('Hello word!')\n",
    "    \n",
    "Hello()"
   ]
  },
  {
   "cell_type": "markdown",
   "id": "14fb7170",
   "metadata": {},
   "source": [
    "## While loops!"
   ]
  },
  {
   "cell_type": "markdown",
   "id": "e98ead14",
   "metadata": {},
   "source": [
    "A Loop that breaks with a condition and not a range as the for loops"
   ]
  },
  {
   "cell_type": "code",
   "execution_count": 4,
   "id": "30c1ee59",
   "metadata": {},
   "outputs": [
    {
     "name": "stdout",
     "output_type": "stream",
     "text": [
      "Insert a new number5\n",
      "Insert a new number4\n",
      "Insert a new number3\n",
      "Insert a new number-1\n"
     ]
    }
   ],
   "source": [
    "Opt = 0\n",
    "while Opt >= 0:\n",
    "    Opt = int(input('Insert a new number'))"
   ]
  }
 ],
 "metadata": {
  "kernelspec": {
   "display_name": "Python 3 (ipykernel)",
   "language": "python",
   "name": "python3"
  },
  "language_info": {
   "codemirror_mode": {
    "name": "ipython",
    "version": 3
   },
   "file_extension": ".py",
   "mimetype": "text/x-python",
   "name": "python",
   "nbconvert_exporter": "python",
   "pygments_lexer": "ipython3",
   "version": "3.10.5"
  }
 },
 "nbformat": 4,
 "nbformat_minor": 5
}
