{
 "cells": [
  {
   "cell_type": "markdown",
   "id": "0883f9b8",
   "metadata": {},
   "source": [
    "## Day two"
   ]
  },
  {
   "cell_type": "markdown",
   "id": "111c8df9",
   "metadata": {},
   "source": [
    "## Primitive data types"
   ]
  },
  {
   "cell_type": "markdown",
   "id": "4a1bdc51",
   "metadata": {},
   "source": [
    "String\n",
    "Integer\n",
    "Float\n",
    "Boolean"
   ]
  },
  {
   "cell_type": "code",
   "execution_count": 2,
   "id": "b2c376cc",
   "metadata": {},
   "outputs": [
    {
     "name": "stdout",
     "output_type": "stream",
     "text": [
      "String: I'm a string\n",
      "Int: 1\n",
      "Float: 1.55\n",
      "Boolean: False\n",
      "\n",
      "A different float type: 734529.678\n"
     ]
    }
   ],
   "source": [
    "String = \"I'm a string\"\n",
    "Int = 1\n",
    "Float = 1.55\n",
    "Boolean = False #or True\n",
    "\n",
    "print(f\"\"\"String: {String}\n",
    "Int: {Int}\n",
    "Float: {Float}\n",
    "Boolean: {Boolean}\n",
    "\"\"\")\n",
    "\n",
    "mystery = 734_529.678\n",
    "print(f\"A different float type: {mystery}\")"
   ]
  },
  {
   "cell_type": "markdown",
   "id": "842a6e6b",
   "metadata": {},
   "source": [
    "With type function you can know the type of a variable"
   ]
  },
  {
   "cell_type": "code",
   "execution_count": 3,
   "id": "bfbd61e4",
   "metadata": {},
   "outputs": [
    {
     "name": "stdout",
     "output_type": "stream",
     "text": [
      "<class 'float'>\n"
     ]
    }
   ],
   "source": [
    "mystery = 734_123.45\n",
    "print(type(mystery))"
   ]
  },
  {
   "cell_type": "markdown",
   "id": "fd6a4e64",
   "metadata": {},
   "source": [
    "## Math operations"
   ]
  },
  {
   "cell_type": "code",
   "execution_count": 4,
   "id": "13688734",
   "metadata": {},
   "outputs": [],
   "source": [
    "Value_1 = 10\n",
    "Value_2 = 5"
   ]
  },
  {
   "cell_type": "code",
   "execution_count": 7,
   "id": "d374b9d2",
   "metadata": {},
   "outputs": [],
   "source": [
    "Sum = Value_1 + Value_2\n",
    "Addition = Value_1 - Value_2\n",
    "Multiplication = Value_1 * Value_2\n",
    "Division = Value_1 / Value_2\n",
    "Exponent = Value_1**Value_2"
   ]
  },
  {
   "cell_type": "code",
   "execution_count": 8,
   "id": "78f24981",
   "metadata": {},
   "outputs": [
    {
     "name": "stdout",
     "output_type": "stream",
     "text": [
      "Sum: 15\n",
      "Addition: 5\n",
      "Multiplication: 50\n",
      "Division: 2.0\n",
      "Exponent: 100000\n",
      "\n"
     ]
    }
   ],
   "source": [
    "print(f\"\"\"Sum: {Sum}\n",
    "Addition: {Addition}\n",
    "Multiplication: {Multiplication}\n",
    "Division: {Division}\n",
    "Exponent: {Exponent}\n",
    "\"\"\")"
   ]
  },
  {
   "cell_type": "markdown",
   "id": "08ba0099",
   "metadata": {},
   "source": [
    "## BMI calculator!"
   ]
  },
  {
   "cell_type": "markdown",
   "id": "27cf6081",
   "metadata": {},
   "source": [
    "BMI Formule is BMI = weight(kg)/height^2(m^2)"
   ]
  },
  {
   "cell_type": "code",
   "execution_count": 11,
   "id": "727c92fb",
   "metadata": {},
   "outputs": [
    {
     "name": "stdout",
     "output_type": "stream",
     "text": [
      "Hello, this is the BMI calculator!\n",
      "Digit your weight in kilograms: 57\n",
      "Digit your height in meters: 1.8\n",
      "Your BMI returns 17.59\n"
     ]
    }
   ],
   "source": [
    "print('Hello, this is the BMI calculator!')\n",
    "Weight = float(input(\"Digit your weight in kilograms: \"))\n",
    "Height = float(input(\"Digit your height in meters: \"))\n",
    "Result = round(Weight/(Height**2),2)\n",
    "print(f\"Your BMI returns {Result} units!\")"
   ]
  },
  {
   "cell_type": "markdown",
   "id": "0bdba8ec",
   "metadata": {},
   "source": [
    "## Your life in weeks until 90 years!"
   ]
  },
  {
   "cell_type": "markdown",
   "id": "37c7cf2d",
   "metadata": {},
   "source": [
    "Code a program which the input is your age and it returns you how many months, weeks and days are left if you lives 90 years!"
   ]
  },
  {
   "cell_type": "code",
   "execution_count": 16,
   "id": "4aeaf863",
   "metadata": {},
   "outputs": [
    {
     "name": "stdout",
     "output_type": "stream",
     "text": [
      "What's your current age? 56\n",
      "You have 12410 days, 1768 weeks and 408 months left :(\n"
     ]
    }
   ],
   "source": [
    "age = int(input(\"What's your current age? \"))\n",
    "Mont_Initial = 90*12\n",
    "Week_Initial = 90*52\n",
    "Day_Initial = 90*365\n",
    "\n",
    "#Operation part\n",
    "Month_age = age*12\n",
    "Week_age = age*52\n",
    "Day_age = age*365\n",
    "\n",
    "#Addition part\n",
    "Month_Result = Mont_Initial - Month_age\n",
    "Week_Result = Week_Initial - Week_age\n",
    "Day_Result = Day_Initial - Day_age\n",
    "\n",
    "print(f\"You have {Day_Result} days, {Week_Result} weeks and {Month_Result} months left :(\")"
   ]
  },
  {
   "cell_type": "code",
   "execution_count": null,
   "id": "79d0f157",
   "metadata": {},
   "outputs": [],
   "source": []
  },
  {
   "cell_type": "markdown",
   "id": "2376803b",
   "metadata": {},
   "source": [
    "## Final project"
   ]
  },
  {
   "cell_type": "markdown",
   "id": "e8318da8",
   "metadata": {},
   "source": [
    "## Tip calculator!"
   ]
  },
  {
   "cell_type": "code",
   "execution_count": 17,
   "id": "a69bb543",
   "metadata": {},
   "outputs": [
    {
     "name": "stdout",
     "output_type": "stream",
     "text": [
      "Welcome to the tip calculator!\n",
      "What was the total Bill? $124.56\n",
      "What percentage bill would you like to give? (10, 12 or 15): 12\n",
      "How many people to split the bill? 7\n",
      "Each person should pay: $19.93\n"
     ]
    }
   ],
   "source": [
    "print(\"Welcome to the tip calculator!\")\n",
    "Bill = float(input(\"What was the total Bill? $\"))\n",
    "Percentage = int(input(\"What percentage bill would you like to give? (10, 12 or 15): \"))\n",
    "People = int(input(\"How many people to split the bill? \"))\n",
    "\n",
    "#Math part\n",
    "Amount = round(Bill*(Percentage+100)/100,2) # or round(Bill*(Percentage/100+1),2)\n",
    "Split = Amount/People\n",
    "\n",
    "#Logic\n",
    "# Amount = 124.56 * 1.12 = 139.50\n",
    "# Split = 139.50 / 7 = 13.93\n",
    "\n",
    "print(f\"Each person should pay: ${Split}\")"
   ]
  }
 ],
 "metadata": {
  "kernelspec": {
   "display_name": "Python 3 (ipykernel)",
   "language": "python",
   "name": "python3"
  },
  "language_info": {
   "codemirror_mode": {
    "name": "ipython",
    "version": 3
   },
   "file_extension": ".py",
   "mimetype": "text/x-python",
   "name": "python",
   "nbconvert_exporter": "python",
   "pygments_lexer": "ipython3",
   "version": "3.10.5"
  }
 },
 "nbformat": 4,
 "nbformat_minor": 5
}
