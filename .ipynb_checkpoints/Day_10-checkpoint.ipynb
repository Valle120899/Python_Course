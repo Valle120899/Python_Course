{
 "cells": [
  {
   "cell_type": "markdown",
   "id": "4315c391",
   "metadata": {},
   "source": [
    "## Day 10"
   ]
  },
  {
   "cell_type": "markdown",
   "id": "f46c1336",
   "metadata": {},
   "source": [
    "## Functions with output"
   ]
  },
  {
   "cell_type": "code",
   "execution_count": 1,
   "id": "492248f9",
   "metadata": {},
   "outputs": [
    {
     "name": "stdout",
     "output_type": "stream",
     "text": [
      "Hello Word!\n"
     ]
    }
   ],
   "source": [
    "def Greetings(String):\n",
    "    return f\"Hello {String}\"\n",
    "\n",
    "print(Greetings('Word!'))"
   ]
  },
  {
   "cell_type": "markdown",
   "id": "79c7e815",
   "metadata": {},
   "source": [
    "## Multiple return values"
   ]
  },
  {
   "cell_type": "code",
   "execution_count": 2,
   "id": "ea215112",
   "metadata": {},
   "outputs": [
    {
     "name": "stdout",
     "output_type": "stream",
     "text": [
      "a: 0\n",
      "b:20\n",
      "a: 5\n",
      "b:30\n"
     ]
    }
   ],
   "source": [
    "def Fun(a,b):\n",
    "    a+=5\n",
    "    b+=10\n",
    "    return a,b\n",
    "\n",
    "a=0\n",
    "b=20\n",
    "print(f\"a: {a}\\nb:{b}\")\n",
    "a,b = Fun(a,b)\n",
    "\n",
    "print(f\"a: {a}\\nb:{b}\")"
   ]
  },
  {
   "cell_type": "markdown",
   "id": "1a5fb739",
   "metadata": {},
   "source": [
    "## Days in Month"
   ]
  },
  {
   "cell_type": "code",
   "execution_count": 7,
   "id": "b6cfb714",
   "metadata": {},
   "outputs": [
    {
     "name": "stdout",
     "output_type": "stream",
     "text": [
      "Welcome!\n",
      "Insert a year: 2024\n",
      "Insert a month: 2\n",
      "There are 29 days in that month!\n"
     ]
    }
   ],
   "source": [
    "def leap(year):\n",
    "    if year%100==0 and year%400==0:\n",
    "        return True\n",
    "    elif year%4==0:\n",
    "        return True\n",
    "    else:\n",
    "        return False\n",
    "    \n",
    "def days_in_month(year,month):\n",
    "    if month == 2:\n",
    "        if leap(year):\n",
    "            return 29\n",
    "        else:\n",
    "            return 28\n",
    "    Month_30 = [4,6,9,11]\n",
    "    Month_31 = [1,3,5,7,8,10,12]\n",
    "    if month in Month_30:\n",
    "        return 30\n",
    "    return 31\n",
    "\n",
    "print('Welcome!')\n",
    "Year = int(input('Insert a year: '))\n",
    "Month = int(input('Insert a month: '))\n",
    "\n",
    "print(f\"There are {days_in_month(Year,Month)} days in that month!\")\n",
    "    "
   ]
  },
  {
   "cell_type": "markdown",
   "id": "1f4bf17f",
   "metadata": {},
   "source": [
    "## Docstrings"
   ]
  },
  {
   "cell_type": "code",
   "execution_count": 10,
   "id": "e3977535",
   "metadata": {},
   "outputs": [
    {
     "name": "stdout",
     "output_type": "stream",
     "text": [
      "\n",
      "I'm a big variable that can be printed whenever I want!\n",
      "Let's see how\n",
      "\n"
     ]
    }
   ],
   "source": [
    "\"\"\"\n",
    "Multiline comments\n",
    "You can save variables here or just for big comments\n",
    "\"\"\"\n",
    "\n",
    "Var = \"\"\"\n",
    "I'm a big variable that can be printed whenever I want!\n",
    "Let's see how\n",
    "\"\"\"\n",
    "\n",
    "print(Var)\n"
   ]
  },
  {
   "cell_type": "code",
   "execution_count": null,
   "id": "853cec8f",
   "metadata": {},
   "outputs": [],
   "source": []
  },
  {
   "cell_type": "markdown",
   "id": "c091f2d7",
   "metadata": {},
   "source": [
    "## Final project! - Calculator"
   ]
  },
  {
   "cell_type": "code",
   "execution_count": 4,
   "id": "46b4ac0f",
   "metadata": {},
   "outputs": [
    {
     "name": "stdout",
     "output_type": "stream",
     "text": [
      "What's the first number: 8\n",
      "+\n",
      "-\n",
      "*\n",
      "/\n",
      "/\n",
      "What's the second number: 0\n",
      "8.0 / 0.0 = You cannot divide between 0!\n",
      "Type 'y' to continue...y\n",
      "What's the first number: 8\n",
      "+\n",
      "-\n",
      "*\n",
      "/\n",
      "/\n",
      "What's the second number: 2\n",
      "8.0 / 2.0 = 4.0\n",
      "Type 'y' to continue...n\n"
     ]
    }
   ],
   "source": [
    "def Sum(Num_1,Num_2):\n",
    "    return Num_1+Num_2\n",
    "\n",
    "def Add(Num_1,Num_2):\n",
    "    return Num_1-Num_2\n",
    "\n",
    "def Mult(Num_1,Num_2):\n",
    "    return Num_1*Num_2\n",
    "\n",
    "def Div(Num_1,Num_2):\n",
    "    if Num_2 != 0:\n",
    "        return Num_1/Num_2\n",
    "    else:\n",
    "        return \"You cannot divide between 0!\"\n",
    "\n",
    "def Decision(Opt,Num_1,Num_2):\n",
    "    if Opt == '+':\n",
    "        return Sum(Num_1,Num_2)\n",
    "    if Opt == '-':\n",
    "        return Add(Num_1,Num_2)\n",
    "    if Opt == '*':\n",
    "        return Mult(Num_1,Num_2)\n",
    "    if Opt == '/':\n",
    "        return Div(Num_1,Num_2)\n",
    "\n",
    "while True:\n",
    "    Num_1 = float(input(\"What's the first number: \"))\n",
    "    Opt = input(\"\"\"+\\n-\\n*\\n/\\n\"\"\")\n",
    "    Num_2 = float(input(\"What's the second number: \"))\n",
    "    Result = Decision(Opt,Num_1,Num_2)\n",
    "    print(f\"{Num_1} {Opt} {Num_2} = {Result}\")\n",
    "    Opt = input(\"Type 'y' to continue...\").lower()\n",
    "    if Opt != 'y':\n",
    "        break"
   ]
  }
 ],
 "metadata": {
  "kernelspec": {
   "display_name": "Python 3 (ipykernel)",
   "language": "python",
   "name": "python3"
  },
  "language_info": {
   "codemirror_mode": {
    "name": "ipython",
    "version": 3
   },
   "file_extension": ".py",
   "mimetype": "text/x-python",
   "name": "python",
   "nbconvert_exporter": "python",
   "pygments_lexer": "ipython3",
   "version": "3.10.5"
  }
 },
 "nbformat": 4,
 "nbformat_minor": 5
}
