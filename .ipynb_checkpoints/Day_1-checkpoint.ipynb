{
 "cells": [
  {
   "cell_type": "markdown",
   "id": "ac64bcb6",
   "metadata": {},
   "source": [
    "## print in console"
   ]
  },
  {
   "cell_type": "code",
   "execution_count": 1,
   "id": "4a5441fc",
   "metadata": {},
   "outputs": [
    {
     "name": "stdout",
     "output_type": "stream",
     "text": [
      "Hello world!\n"
     ]
    }
   ],
   "source": [
    "print('Hello world!')"
   ]
  },
  {
   "cell_type": "code",
   "execution_count": 2,
   "id": "f774964c",
   "metadata": {},
   "outputs": [
    {
     "name": "stdout",
     "output_type": "stream",
     "text": [
      "print function\n"
     ]
    }
   ],
   "source": [
    "print('print function')"
   ]
  },
  {
   "cell_type": "code",
   "execution_count": 3,
   "id": "c4616972",
   "metadata": {},
   "outputs": [
    {
     "name": "stdout",
     "output_type": "stream",
     "text": [
      "It's declare like this:\n"
     ]
    }
   ],
   "source": [
    "print(\"It's declare like this:\")"
   ]
  },
  {
   "cell_type": "code",
   "execution_count": 4,
   "id": "bc89d7b8",
   "metadata": {},
   "outputs": [
    {
     "name": "stdout",
     "output_type": "stream",
     "text": [
      "print('Hello world!')\n"
     ]
    }
   ],
   "source": [
    "print(\"print('Hello world!')\")"
   ]
  },
  {
   "cell_type": "markdown",
   "id": "66ba33de",
   "metadata": {},
   "source": [
    "## String manipulation"
   ]
  },
  {
   "cell_type": "code",
   "execution_count": 7,
   "id": "54819be7",
   "metadata": {},
   "outputs": [
    {
     "name": "stdout",
     "output_type": "stream",
     "text": [
      "Hello world!\n",
      "Hello world! \n",
      "Hello world!\n"
     ]
    }
   ],
   "source": [
    "print('Hello world!\\nHello world! \\nHello world!')"
   ]
  },
  {
   "cell_type": "markdown",
   "id": "63e865fe",
   "metadata": {},
   "source": [
    "## Concatenation"
   ]
  },
  {
   "cell_type": "code",
   "execution_count": 11,
   "id": "7647a6cc",
   "metadata": {},
   "outputs": [
    {
     "name": "stdout",
     "output_type": "stream",
     "text": [
      "Hello User!\n"
     ]
    }
   ],
   "source": [
    "print(\"Hello\"+\" \"+\"User!\")"
   ]
  },
  {
   "cell_type": "markdown",
   "id": "3c002709",
   "metadata": {},
   "source": [
    "Remember indentation is important in python language"
   ]
  },
  {
   "cell_type": "markdown",
   "id": "c5a5e44d",
   "metadata": {},
   "source": [
    "## Input function"
   ]
  },
  {
   "cell_type": "code",
   "execution_count": 13,
   "id": "ba2367f7",
   "metadata": {},
   "outputs": [
    {
     "name": "stdout",
     "output_type": "stream",
     "text": [
      "This is an input: Example!\n"
     ]
    },
    {
     "data": {
      "text/plain": [
       "'Example!'"
      ]
     },
     "execution_count": 13,
     "metadata": {},
     "output_type": "execute_result"
    }
   ],
   "source": [
    "input('This is an input: ')"
   ]
  },
  {
   "cell_type": "code",
   "execution_count": 18,
   "id": "a851a091",
   "metadata": {},
   "outputs": [
    {
     "name": "stdout",
     "output_type": "stream",
     "text": [
      "What's your name? Rodrigo\n",
      "Hello, Rodrigo!\n"
     ]
    }
   ],
   "source": [
    "print(\"Hello, \"+input(\"What's your name? \") + \"!\")"
   ]
  },
  {
   "cell_type": "markdown",
   "id": "1eebe51b",
   "metadata": {},
   "source": [
    "## Comments"
   ]
  },
  {
   "cell_type": "code",
   "execution_count": 19,
   "id": "3c51b38b",
   "metadata": {},
   "outputs": [
    {
     "name": "stdout",
     "output_type": "stream",
     "text": [
      "I'm not a comment!\n"
     ]
    }
   ],
   "source": [
    "#print(\"I'm a comment\")\n",
    "print(\"I'm not a comment!\")"
   ]
  },
  {
   "cell_type": "markdown",
   "id": "b7c3c4cf",
   "metadata": {},
   "source": [
    "## Length of string"
   ]
  },
  {
   "cell_type": "code",
   "execution_count": 20,
   "id": "a0299462",
   "metadata": {},
   "outputs": [
    {
     "name": "stdout",
     "output_type": "stream",
     "text": [
      "With the function 'len()' you can know the length of whichever string, example:\n"
     ]
    }
   ],
   "source": [
    "print(\"With the function 'len()' you can know the length of whichever string, example:\")"
   ]
  },
  {
   "cell_type": "code",
   "execution_count": 22,
   "id": "e9216b8f",
   "metadata": {},
   "outputs": [
    {
     "name": "stdout",
     "output_type": "stream",
     "text": [
      "The length of the word 'ABCDE' is: 5\n"
     ]
    }
   ],
   "source": [
    "print(\"The length of the word 'ABCDE' is: \"+ str(len('ABCDE')))"
   ]
  },
  {
   "cell_type": "markdown",
   "id": "12175005",
   "metadata": {},
   "source": [
    "Remember when you want to print an int and a string in the same print function, you have to cast the int with the str method"
   ]
  },
  {
   "cell_type": "markdown",
   "id": "f4f8d3c9",
   "metadata": {},
   "source": [
    "## Variables"
   ]
  },
  {
   "cell_type": "markdown",
   "id": "f3a1e658",
   "metadata": {},
   "source": [
    "Variables works to save in the local session whatever data you want\n",
    "You only have to write whichever variable name you want to have"
   ]
  },
  {
   "cell_type": "code",
   "execution_count": 23,
   "id": "0308f08b",
   "metadata": {},
   "outputs": [
    {
     "name": "stdout",
     "output_type": "stream",
     "text": [
      "I'm a variable!\n"
     ]
    }
   ],
   "source": [
    "var = \"I'm a variable!\"\n",
    "print(var)"
   ]
  },
  {
   "cell_type": "markdown",
   "id": "92d1bbc6",
   "metadata": {},
   "source": [
    "Variables can be named as whatever you want, the unique exception is that a variable name cannot start with a special character or a number"
   ]
  },
  {
   "cell_type": "code",
   "execution_count": 24,
   "id": "a57d068e",
   "metadata": {},
   "outputs": [
    {
     "name": "stdout",
     "output_type": "stream",
     "text": [
      "What is your name? Rodrigo\n",
      "As you can see, I can use the variable Rodrigo a lot of time in code, isn't it Rodrigo\n"
     ]
    }
   ],
   "source": [
    "name = input('What is your name? ')\n",
    "print(f\"As you can see, I can use the variable, {name}, a lot of time in code, isn't it {name}\")"
   ]
  },
  {
   "cell_type": "markdown",
   "id": "d5324a2c",
   "metadata": {},
   "source": [
    "The funcion f or format can be use in whatever string in code, this is in order to avoid write repetitive code, you only have to set f before every string, and then inside the string you have to set {} and inside them a variable"
   ]
  },
  {
   "cell_type": "code",
   "execution_count": null,
   "id": "03c05fc0",
   "metadata": {},
   "outputs": [],
   "source": []
  },
  {
   "cell_type": "markdown",
   "id": "dfecaa99",
   "metadata": {},
   "source": [
    "## Final project"
   ]
  },
  {
   "cell_type": "code",
   "execution_count": 28,
   "id": "183bf35c",
   "metadata": {},
   "outputs": [
    {
     "name": "stdout",
     "output_type": "stream",
     "text": [
      "Welcome to the band name generator!\n",
      "What's name of the city you grew up?\n",
      "Bristol\n",
      "What's your pet's name?\n",
      "Rabbit\n",
      "Your band name could be Bristol Rabbit!\n",
      "Thanks!\n"
     ]
    }
   ],
   "source": [
    "print(\"Welcome to the band name generator!\")\n",
    "city = input(\"What's name of the city you grew up?\\n\")\n",
    "pet = input(\"What's your pet's name?\\n\")\n",
    "print(f\"Your band name could be {city} {pet}!\")\n",
    "print(\"Thanks!\")"
   ]
  }
 ],
 "metadata": {
  "kernelspec": {
   "display_name": "Python 3 (ipykernel)",
   "language": "python",
   "name": "python3"
  },
  "language_info": {
   "codemirror_mode": {
    "name": "ipython",
    "version": 3
   },
   "file_extension": ".py",
   "mimetype": "text/x-python",
   "name": "python",
   "nbconvert_exporter": "python",
   "pygments_lexer": "ipython3",
   "version": "3.10.5"
  }
 },
 "nbformat": 4,
 "nbformat_minor": 5
}
