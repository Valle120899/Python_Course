{
 "cells": [
  {
   "cell_type": "markdown",
   "id": "492153e0",
   "metadata": {},
   "source": [
    "## Conditions"
   ]
  },
  {
   "cell_type": "code",
   "execution_count": 1,
   "id": "38d9a0b5",
   "metadata": {},
   "outputs": [
    {
     "name": "stdout",
     "output_type": "stream",
     "text": [
      "Low\n"
     ]
    }
   ],
   "source": [
    "#To take decisions\n",
    "\n",
    "water = 50\n",
    "if water >50: \n",
    "    print('Higher')\n",
    "else:\n",
    "    print('Low')"
   ]
  },
  {
   "cell_type": "markdown",
   "id": "220002b0",
   "metadata": {},
   "source": [
    "Low is printed because in the condition says >50 that means, 50 is not included, is from 51 to infinite.\n",
    "To take 50 in account it should be >=50"
   ]
  },
  {
   "cell_type": "markdown",
   "id": "8200bd7a",
   "metadata": {},
   "source": [
    "## Odd or even"
   ]
  },
  {
   "cell_type": "code",
   "execution_count": 2,
   "id": "37b2b18e",
   "metadata": {},
   "outputs": [
    {
     "name": "stdout",
     "output_type": "stream",
     "text": [
      "Digit a number: 5\n",
      "The number 5 is even\n"
     ]
    }
   ],
   "source": [
    "Number = int(input('Digit a number: '))\n",
    "if Number %2 ==0:\n",
    "    print(f\"The number {Number} is odd\")\n",
    "else:\n",
    "    print(f\"The number {Number} is even\")"
   ]
  },
  {
   "cell_type": "markdown",
   "id": "bbdf1f37",
   "metadata": {},
   "source": [
    "## Elif statements"
   ]
  },
  {
   "cell_type": "markdown",
   "id": "b14aa89a",
   "metadata": {},
   "source": [
    "To add more conditions in tje structure"
   ]
  },
  {
   "cell_type": "code",
   "execution_count": 4,
   "id": "e02d633f",
   "metadata": {},
   "outputs": [
    {
     "name": "stdout",
     "output_type": "stream",
     "text": [
      "Medium\n"
     ]
    }
   ],
   "source": [
    "water = 40\n",
    "if water >50: \n",
    "    print('Higher')\n",
    "elif water>=30:\n",
    "    print('Medium')\n",
    "else:\n",
    "    print('Low')"
   ]
  },
  {
   "cell_type": "markdown",
   "id": "0ee79d0b",
   "metadata": {},
   "source": [
    "## BMI 2.0"
   ]
  },
  {
   "cell_type": "markdown",
   "id": "1fc90252",
   "metadata": {},
   "source": [
    "under 18.5 underweight - over 18.5 but below 25 normal weight - over 25 but below 30 overweight - over 30 but below 35 obsese - and over 35 clinically obese"
   ]
  },
  {
   "cell_type": "code",
   "execution_count": 5,
   "id": "f7932669",
   "metadata": {},
   "outputs": [
    {
     "name": "stdout",
     "output_type": "stream",
     "text": [
      "Insert your height in meters: 1.71\n",
      "Insert your weight in kilograms: 57\n",
      "You are in normal weight with 19.49\n"
     ]
    }
   ],
   "source": [
    "Height = float(input(\"Insert your height in meters: \"))\n",
    "Weight = float(input(\"Insert your weight in kilograms: \"))\n",
    "\n",
    "BMI = round(Weight/Height**2 ,2)\n",
    "\n",
    "if BMI <18.5:\n",
    "    print(f'You are underweight with {BMI}')\n",
    "elif BMI>=18.5 and BMI <25:\n",
    "    print(f'You are in normal weight with {BMI}')\n",
    "elif BMI>=25 and BMI <30:\n",
    "    print(f'You are in overweight with {BMI}')\n",
    "elif BMI>=30 and BMI <35:\n",
    "    print(f'You are in obsese with {BMI}')\n",
    "else:\n",
    "    print(f'You are clinically obese with {BMI}')"
   ]
  },
  {
   "cell_type": "markdown",
   "id": "5c39a3a2",
   "metadata": {},
   "source": [
    "## Leap year program!"
   ]
  },
  {
   "cell_type": "code",
   "execution_count": 7,
   "id": "4c57b6d2",
   "metadata": {},
   "outputs": [
    {
     "name": "stdout",
     "output_type": "stream",
     "text": [
      "What year would you like to check if it is leap? 2024\n",
      "The year 2024 is Leap!\n"
     ]
    }
   ],
   "source": [
    "Year= int(input('What year would you like to check if it is leap? '))\n",
    "\n",
    "if Year%100 == 0 and Year%400==0:\n",
    "    print(f'The year {Year} is Leap!')\n",
    "elif Year%4==0:\n",
    "    print(f'The year {Year} is Leap!')\n",
    "else:\n",
    "    print(f'The year {Year} is not leap')"
   ]
  },
  {
   "cell_type": "markdown",
   "id": "f50b5491",
   "metadata": {},
   "source": [
    "## Logical operators"
   ]
  },
  {
   "cell_type": "markdown",
   "id": "75ffad78",
   "metadata": {},
   "source": [
    "Boolean operators in conditionals as for example False and True. That means operators that returns a bolean like 8>5 is True, but 8<5 is False; Also conditionals like 8==5 is False but 5==5 is True and final 8 != 5 is True but 8!=8 is False "
   ]
  },
  {
   "cell_type": "markdown",
   "id": "f0bf5e52",
   "metadata": {},
   "source": [
    "Also you have to take into account that you can add more than one condition in line with operators like and-or"
   ]
  },
  {
   "cell_type": "markdown",
   "id": "396449eb",
   "metadata": {},
   "source": [
    "## True love calculator"
   ]
  },
  {
   "cell_type": "code",
   "execution_count": 9,
   "id": "f0509139",
   "metadata": {},
   "outputs": [
    {
     "name": "stdout",
     "output_type": "stream",
     "text": [
      "Write your name: rodrigo\n",
      "Write your lover name: julissa\n",
      "Your score is 44\n",
      "You are alright togeter\n"
     ]
    }
   ],
   "source": [
    "#Decenas\n",
    "Name_1 = input(\"Write your name: \").upper()\n",
    "#Units\n",
    "Name_2 = input(\"Write your lover name: \").upper()\n",
    "#Or vice versa\n",
    "\n",
    "#Compare words\n",
    "Word_1 = 'TRUE'\n",
    "Word_2 = 'LOVE'\n",
    "\n",
    "#Counter decenas\n",
    "Aux_1 = 0\n",
    "#Counter unit\n",
    "Aux_2 = 0\n",
    "for i in range(len(Name_1)):\n",
    "    if Name_1[i] in Word_1:\n",
    "        Aux_1+=1\n",
    "    elif Name_1[i] in Word_2:\n",
    "        Aux_2+=1\n",
    "        \n",
    "for i in range(len(Name_2)):\n",
    "    if Name_1[i] in Word_1:\n",
    "        Aux_1+=1\n",
    "    elif Name_1[i] in Word_2:\n",
    "        Aux_2+=1\n",
    "\n",
    "Formule = Aux_1*10 + Aux_2\n",
    "print(f\"Your score is {Formule}\")\n",
    "\n",
    "if Formule<10 or Formule>90:\n",
    "    print('You go togeter like coke and mentos')\n",
    "elif Formule>=40 and Formule<=50:\n",
    "    print('You are alright togeter')\n",
    "else:\n",
    "    print('Sorry')"
   ]
  },
  {
   "cell_type": "code",
   "execution_count": null,
   "id": "0803b5b4",
   "metadata": {},
   "outputs": [],
   "source": []
  },
  {
   "cell_type": "markdown",
   "id": "0699d95d",
   "metadata": {},
   "source": [
    "## Project - Treasure island"
   ]
  },
  {
   "cell_type": "markdown",
   "id": "bb47a1fc",
   "metadata": {},
   "source": [
    "With conditional create a program that follows the next conditions: if you chose right the game it's over else you have to chose swim or wait, if you swim the game is over else you go on a boat. Now you have to chose Red, Blue or Yellow if you chose yellow you win, else the game is over"
   ]
  },
  {
   "cell_type": "code",
   "execution_count": 14,
   "id": "f81f335b",
   "metadata": {},
   "outputs": [
    {
     "name": "stdout",
     "output_type": "stream",
     "text": [
      "Welcome to the treasure island game!\n",
      "Your mission is to find the treasure\n",
      "You want to go right or left: left\n",
      "Now chose, you want to wait or swim: wait\n",
      "Chose, red, Blue or Yellow: yellow\n",
      "You won!\n"
     ]
    }
   ],
   "source": [
    "print('Welcome to the treasure island game!\\nYour mission is to find the treasure')\n",
    "\n",
    "Opt_1 = input(\"You want to go right or left: \").lower()\n",
    "if Opt_1 == 'left':\n",
    "    Opt_2 = input(\"Now chose, you want to wait or swim: \").lower()\n",
    "    if Opt_2 == 'wait':\n",
    "        Opt_3 = input(\"Chose, red, Blue or Yellow: \").lower()\n",
    "        if Opt_3 == 'yellow':\n",
    "            print(\"You won!\")\n",
    "        else:\n",
    "            print('Game over!')\n",
    "    else:\n",
    "        print('Game over!')\n",
    "else:\n",
    "    print('Game over!')\n"
   ]
  }
 ],
 "metadata": {
  "kernelspec": {
   "display_name": "Python 3 (ipykernel)",
   "language": "python",
   "name": "python3"
  },
  "language_info": {
   "codemirror_mode": {
    "name": "ipython",
    "version": 3
   },
   "file_extension": ".py",
   "mimetype": "text/x-python",
   "name": "python",
   "nbconvert_exporter": "python",
   "pygments_lexer": "ipython3",
   "version": "3.10.5"
  }
 },
 "nbformat": 4,
 "nbformat_minor": 5
}
