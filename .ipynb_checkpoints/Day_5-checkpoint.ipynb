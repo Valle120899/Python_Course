{
 "cells": [
  {
   "cell_type": "markdown",
   "id": "ee3b5b9c",
   "metadata": {},
   "source": [
    "## Loops"
   ]
  },
  {
   "cell_type": "code",
   "execution_count": 2,
   "id": "4622cbd8",
   "metadata": {},
   "outputs": [
    {
     "name": "stdout",
     "output_type": "stream",
     "text": [
      "apple\n",
      "orange\n",
      "peach\n"
     ]
    }
   ],
   "source": [
    "Fruts = ['apple', 'orange', 'peach']\n",
    "\n",
    "for i in Fruts:\n",
    "    print(i)"
   ]
  },
  {
   "cell_type": "markdown",
   "id": "576c15b6",
   "metadata": {},
   "source": [
    "## Average program"
   ]
  },
  {
   "cell_type": "code",
   "execution_count": 8,
   "id": "a16577e6",
   "metadata": {},
   "outputs": [
    {
     "name": "stdout",
     "output_type": "stream",
     "text": [
      "Insert a student height in m: 1.72\n",
      "Want to continue? yes\n",
      "Insert a student height in m: 1.75\n",
      "Want to continue? yes\n",
      "Insert a student height in m: 1.78\n",
      "Want to continue? no\n",
      "5.25\n",
      "The average is: 1.75m.\n"
     ]
    }
   ],
   "source": [
    "List = []\n",
    "\n",
    "while True:\n",
    "    List.append(float(input('Insert a student height in m: ')))\n",
    "    Opt = input('Want to continue? ').lower()\n",
    "    if Opt != 'yes':\n",
    "        break\n",
    "\n",
    "Sum = 0.0\n",
    "for i in List:\n",
    "    Sum+=i\n",
    "\n",
    "#Average\n",
    "AVG =  Sum/len(List)\n",
    "\n",
    "print(f'The average is: {AVG}m.')"
   ]
  },
  {
   "cell_type": "markdown",
   "id": "727148b1",
   "metadata": {},
   "source": [
    "## Buble order"
   ]
  },
  {
   "cell_type": "code",
   "execution_count": 12,
   "id": "ed35c768",
   "metadata": {},
   "outputs": [
    {
     "name": "stdout",
     "output_type": "stream",
     "text": [
      "Insert a student height in m: 1.72\n",
      "Want to continue? yes\n",
      "Insert a student height in m: 1.75\n",
      "Want to continue? yes\n",
      "Insert a student height in m: 1.5\n",
      "Want to continue? yes\n",
      "Insert a student height in m: 2\n",
      "Want to continue? no\n",
      "The higher is: 2.0.\n"
     ]
    }
   ],
   "source": [
    "List = []\n",
    "\n",
    "while True:\n",
    "    List.append(float(input('Insert a student height in m: ')))\n",
    "    Opt = input('Want to continue? ').lower()\n",
    "    if Opt != 'yes':\n",
    "        break\n",
    "\n",
    "#Bubble sort\n",
    "for i in range(len(List)):\n",
    "    for j in range(0, len(List)-i-1):\n",
    "        if List[j] < List[j+1]: #Change this to > to get the lower\n",
    "            List[j], List[j+1] = List[j+1], List[j]\n",
    "            \n",
    "#Higher value\n",
    "print(f'The higher is: {List[0]}.')"
   ]
  },
  {
   "cell_type": "markdown",
   "id": "1662ea88",
   "metadata": {},
   "source": [
    "# Sum of even numbers"
   ]
  },
  {
   "cell_type": "code",
   "execution_count": 13,
   "id": "3945d405",
   "metadata": {},
   "outputs": [
    {
     "name": "stdout",
     "output_type": "stream",
     "text": [
      "Insert a number 5\n",
      "Want to continue? yes\n",
      "Insert a number 7\n",
      "Want to continue? yes\n",
      "Insert a number 2\n",
      "Want to continue? yes\n",
      "Insert a number 4\n",
      "Want to continue? yes\n",
      "Insert a number 8\n",
      "Want to continue? no\n",
      "The sum of even numbers is: 14.0\n"
     ]
    }
   ],
   "source": [
    "List = []\n",
    "\n",
    "while True:\n",
    "    List.append(float(input('Insert a number ')))\n",
    "    Opt = input('Want to continue? ').lower()\n",
    "    if Opt != 'yes':\n",
    "        break\n",
    "\n",
    "Sum = 0.0\n",
    "for i in List:\n",
    "    if i % 2 == 0:\n",
    "        Sum+=i\n",
    "\n",
    "print(f'The sum of even numbers is: {Sum}')"
   ]
  },
  {
   "cell_type": "markdown",
   "id": "41cf1286",
   "metadata": {},
   "source": [
    "## Fizz buzz program"
   ]
  },
  {
   "cell_type": "markdown",
   "id": "ff104962",
   "metadata": {},
   "source": [
    "print from 1-100 if the number is divissible by 3 print Fizz, if the number is divisiible by 5 print Buzz, if the nomber is divissible by both print FizzBuzz"
   ]
  },
  {
   "cell_type": "code",
   "execution_count": 14,
   "id": "81e03215",
   "metadata": {},
   "outputs": [
    {
     "name": "stdout",
     "output_type": "stream",
     "text": [
      "1\n",
      "2\n",
      "Fizz\n",
      "4\n",
      "Buzz\n",
      "Fizz\n",
      "7\n",
      "8\n",
      "Fizz\n",
      "Buzz\n",
      "11\n",
      "Fizz\n",
      "13\n",
      "14\n",
      "FizzBuzz\n",
      "16\n",
      "17\n",
      "Fizz\n",
      "19\n"
     ]
    }
   ],
   "source": [
    "for i in range(1,20): #Change 20 to 100 to complete the exercise\n",
    "    if i % 3 == 0 and i % 5 == 0:\n",
    "        print('FizzBuzz')\n",
    "    elif i % 3 == 0:\n",
    "        print('Fizz')\n",
    "    elif i % 5 == 0:\n",
    "        print('Buzz')\n",
    "    else:\n",
    "        print(i)"
   ]
  },
  {
   "cell_type": "code",
   "execution_count": null,
   "id": "df11738d",
   "metadata": {},
   "outputs": [],
   "source": []
  },
  {
   "cell_type": "markdown",
   "id": "40ee298e",
   "metadata": {},
   "source": [
    "## Project: Password generator!"
   ]
  },
  {
   "cell_type": "code",
   "execution_count": 27,
   "id": "ca4d6b1a",
   "metadata": {},
   "outputs": [
    {
     "name": "stdout",
     "output_type": "stream",
     "text": [
      "Welcome to the PyPassword generator!\n",
      "How many letters would you like in your password: 5\n",
      "How many symbols would you like in your password: 4\n",
      "How many numbers would you like in your password: 2\n",
      "Your password is: z\"/_Z61#tJV\n"
     ]
    }
   ],
   "source": [
    "import random\n",
    "import string\n",
    "\n",
    "print('Welcome to the PyPassword generator!')\n",
    "Letter = int(input('How many letters would you like in your password: '))\n",
    "Symbol = int(input('How many symbols would you like in your password: '))\n",
    "Number = int(input('How many numbers would you like in your password: '))\n",
    "\n",
    "#This contains lower and upper characters\n",
    "Letters = string.ascii_letters\n",
    "#This contains special chars\n",
    "Chars = string.punctuation\n",
    "\n",
    "Password = ''\n",
    "Random=0\n",
    "List = []\n",
    "\n",
    "#Letters\n",
    "for i in range(1,Letter+1):\n",
    "    Random = random.randint(0,len(Letters))-1\n",
    "    List.append(Letters[Random])\n",
    "\n",
    "#Chars\n",
    "for i in range(1,Symbol+1):\n",
    "    Random = random.randint(0,len(Chars))-1\n",
    "    List.append(Chars[Random])\n",
    "\n",
    "#Numbers\n",
    "for i in range(1,Number+1):\n",
    "    List.append(str(random.randint(0,9)))\n",
    "    \n",
    "#Shuffle list\n",
    "random.shuffle(List)\n",
    "\n",
    "#Casting list to string\n",
    "for i in List:\n",
    "    Password+=i\n",
    "    \n",
    "print(f'Your password is: {Password}')"
   ]
  },
  {
   "cell_type": "code",
   "execution_count": null,
   "id": "9be22f16",
   "metadata": {},
   "outputs": [],
   "source": []
  }
 ],
 "metadata": {
  "kernelspec": {
   "display_name": "Python 3 (ipykernel)",
   "language": "python",
   "name": "python3"
  },
  "language_info": {
   "codemirror_mode": {
    "name": "ipython",
    "version": 3
   },
   "file_extension": ".py",
   "mimetype": "text/x-python",
   "name": "python",
   "nbconvert_exporter": "python",
   "pygments_lexer": "ipython3",
   "version": "3.10.5"
  }
 },
 "nbformat": 4,
 "nbformat_minor": 5
}
